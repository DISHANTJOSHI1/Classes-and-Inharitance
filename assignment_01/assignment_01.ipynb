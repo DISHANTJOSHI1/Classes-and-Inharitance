{
  "nbformat": 4,
  "nbformat_minor": 0,
  "metadata": {
    "colab": {
      "name": "assignment_01.ipynb",
      "provenance": [],
      "authorship_tag": "ABX9TyORo8qtuVdbCXE4QH7QvuPL",
      "include_colab_link": true
    },
    "kernelspec": {
      "name": "python3",
      "display_name": "Python 3"
    },
    "language_info": {
      "name": "python"
    }
  },
  "cells": [
    {
      "cell_type": "markdown",
      "metadata": {
        "id": "view-in-github",
        "colab_type": "text"
      },
      "source": [
        "<a href=\"https://colab.research.google.com/github/DISHANTJOSHI1/Classes-and-Inharitance/blob/master/assignment_01/assignment_01.ipynb\" target=\"_parent\"><img src=\"https://colab.research.google.com/assets/colab-badge.svg\" alt=\"Open In Colab\"/></a>"
      ]
    },
    {
      "cell_type": "markdown",
      "source": [
        "Data 690 In Class Practice\n",
        "\n",
        "\n",
        "*  Name: **Dishant Fapot**\n",
        "*  Date: **31/01/2022**\n",
        "*   Session: **01**\n"
      ],
      "metadata": {
        "id": "ZUZid4NY9jtP"
      }
    },
    {
      "cell_type": "code",
      "source": [
        "print(\"Hello World\")"
      ],
      "metadata": {
        "colab": {
          "base_uri": "https://localhost:8080/"
        },
        "id": "XwZCNo1k-6Sk",
        "outputId": "6d888c02-d792-4dfb-8b48-a5576f97b092"
      },
      "execution_count": 1,
      "outputs": [
        {
          "output_type": "stream",
          "name": "stdout",
          "text": [
            "Hello World\n"
          ]
        }
      ]
    },
    {
      "cell_type": "code",
      "source": [
        "x = 1;\n",
        "y=2\n",
        "z=x+y;\n",
        "print(\"z = \",z)"
      ],
      "metadata": {
        "colab": {
          "base_uri": "https://localhost:8080/"
        },
        "id": "OUu3L2wB_E0U",
        "outputId": "81f9d0f2-8dd8-4ff7-ea3e-d507ff93c197"
      },
      "execution_count": 2,
      "outputs": [
        {
          "output_type": "stream",
          "name": "stdout",
          "text": [
            "z =  3\n"
          ]
        }
      ]
    },
    {
      "cell_type": "code",
      "source": [
        ""
      ],
      "metadata": {
        "id": "LccrlTy4_TSu"
      },
      "execution_count": null,
      "outputs": []
    }
  ]
}